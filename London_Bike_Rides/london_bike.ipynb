{
 "cells": [
  {
   "cell_type": "markdown",
   "id": "aba2807f",
   "metadata": {},
   "source": [
    "#### Import libraries"
   ]
  },
  {
   "cell_type": "code",
   "execution_count": 4,
   "id": "6b66cdb8",
   "metadata": {},
   "outputs": [],
   "source": [
    "# import the pandas library\n",
    "import pandas as pd\n",
    "\n",
    "# import zipfile library (we will use this to extract the file downloaded from Kaggle)\n",
    "import zipfile\n",
    "\n",
    "# import kaggle library (we will use this to download the dataset programatically from Kaggle)\n",
    "import kaggle\n"
   ]
  },
  {
   "cell_type": "markdown",
   "id": "459bfd5c",
   "metadata": {},
   "source": [
    "##### Download dataset from kaggle using the Kaggle API"
   ]
  },
  {
   "cell_type": "code",
   "execution_count": 5,
   "id": "35a22c13",
   "metadata": {},
   "outputs": [
    {
     "name": "stdout",
     "output_type": "stream",
     "text": [
      "Dataset URL: https://www.kaggle.com/datasets/hmavrodiev/london-bike-sharing-dataset\n",
      "License(s): other\n",
      "Downloading london-bike-sharing-dataset.zip to c:\\Users\\BAHAGO\\Desktop\\Data_Analytics_Projects\\London_Bike_Rides\n",
      "\n"
     ]
    },
    {
     "name": "stderr",
     "output_type": "stream",
     "text": [
      "\n",
      "  0%|          | 0.00/165k [00:00<?, ?B/s]\n",
      "100%|██████████| 165k/165k [00:00<?, ?B/s]\n"
     ]
    }
   ],
   "source": [
    "!kaggle datasets download -d hmavrodiev/london-bike-sharing-dataset"
   ]
  },
  {
   "cell_type": "markdown",
   "id": "1dd09867",
   "metadata": {},
   "source": [
    "#### Extract the file from the downloaded zip file"
   ]
  },
  {
   "cell_type": "code",
   "execution_count": 6,
   "id": "3771c8bd",
   "metadata": {},
   "outputs": [],
   "source": [
    "zipfile_name = 'london-bike-sharing-dataset.zip'\n",
    "with zipfile.ZipFile(zipfile_name, 'r') as file:\n",
    "    file.extractall()"
   ]
  },
  {
   "cell_type": "markdown",
   "id": "9e041012",
   "metadata": {},
   "source": [
    "#### Read in the csv file as a pandas dataframe and Explore Data"
   ]
  },
  {
   "cell_type": "code",
   "execution_count": 9,
   "id": "9dabd4b8",
   "metadata": {},
   "outputs": [
    {
     "name": "stdout",
     "output_type": "stream",
     "text": [
      "<class 'pandas.core.frame.DataFrame'>\n",
      "RangeIndex: 17414 entries, 0 to 17413\n",
      "Data columns (total 10 columns):\n",
      " #   Column        Non-Null Count  Dtype  \n",
      "---  ------        --------------  -----  \n",
      " 0   timestamp     17414 non-null  object \n",
      " 1   cnt           17414 non-null  int64  \n",
      " 2   t1            17414 non-null  float64\n",
      " 3   t2            17414 non-null  float64\n",
      " 4   hum           17414 non-null  float64\n",
      " 5   wind_speed    17414 non-null  float64\n",
      " 6   weather_code  17414 non-null  float64\n",
      " 7   is_holiday    17414 non-null  float64\n",
      " 8   is_weekend    17414 non-null  float64\n",
      " 9   season        17414 non-null  float64\n",
      "dtypes: float64(8), int64(1), object(1)\n",
      "memory usage: 1.3+ MB\n"
     ]
    }
   ],
   "source": [
    "bikes = pd.read_csv(\"london_merged.csv\")\n",
    "bikes.info()"
   ]
  },
  {
   "cell_type": "code",
   "execution_count": 11,
   "id": "f30f4c0f",
   "metadata": {},
   "outputs": [
    {
     "data": {
      "text/plain": [
       "(17414, 10)"
      ]
     },
     "execution_count": 11,
     "metadata": {},
     "output_type": "execute_result"
    }
   ],
   "source": [
    "bikes.shape"
   ]
  },
  {
   "cell_type": "code",
   "execution_count": 10,
   "id": "42de7f4c",
   "metadata": {},
   "outputs": [
    {
     "data": {
      "application/vnd.microsoft.datawrangler.viewer.v0+json": {
       "columns": [
        {
         "name": "index",
         "rawType": "int64",
         "type": "integer"
        },
        {
         "name": "timestamp",
         "rawType": "object",
         "type": "string"
        },
        {
         "name": "cnt",
         "rawType": "int64",
         "type": "integer"
        },
        {
         "name": "t1",
         "rawType": "float64",
         "type": "float"
        },
        {
         "name": "t2",
         "rawType": "float64",
         "type": "float"
        },
        {
         "name": "hum",
         "rawType": "float64",
         "type": "float"
        },
        {
         "name": "wind_speed",
         "rawType": "float64",
         "type": "float"
        },
        {
         "name": "weather_code",
         "rawType": "float64",
         "type": "float"
        },
        {
         "name": "is_holiday",
         "rawType": "float64",
         "type": "float"
        },
        {
         "name": "is_weekend",
         "rawType": "float64",
         "type": "float"
        },
        {
         "name": "season",
         "rawType": "float64",
         "type": "float"
        }
       ],
       "ref": "1c095548-c18f-48cc-adbf-ceb30fecddb8",
       "rows": [
        [
         "0",
         "2015-01-04 00:00:00",
         "182",
         "3.0",
         "2.0",
         "93.0",
         "6.0",
         "3.0",
         "0.0",
         "1.0",
         "3.0"
        ],
        [
         "1",
         "2015-01-04 01:00:00",
         "138",
         "3.0",
         "2.5",
         "93.0",
         "5.0",
         "1.0",
         "0.0",
         "1.0",
         "3.0"
        ],
        [
         "2",
         "2015-01-04 02:00:00",
         "134",
         "2.5",
         "2.5",
         "96.5",
         "0.0",
         "1.0",
         "0.0",
         "1.0",
         "3.0"
        ],
        [
         "3",
         "2015-01-04 03:00:00",
         "72",
         "2.0",
         "2.0",
         "100.0",
         "0.0",
         "1.0",
         "0.0",
         "1.0",
         "3.0"
        ],
        [
         "4",
         "2015-01-04 04:00:00",
         "47",
         "2.0",
         "0.0",
         "93.0",
         "6.5",
         "1.0",
         "0.0",
         "1.0",
         "3.0"
        ],
        [
         "5",
         "2015-01-04 05:00:00",
         "46",
         "2.0",
         "2.0",
         "93.0",
         "4.0",
         "1.0",
         "0.0",
         "1.0",
         "3.0"
        ],
        [
         "6",
         "2015-01-04 06:00:00",
         "51",
         "1.0",
         "-1.0",
         "100.0",
         "7.0",
         "4.0",
         "0.0",
         "1.0",
         "3.0"
        ],
        [
         "7",
         "2015-01-04 07:00:00",
         "75",
         "1.0",
         "-1.0",
         "100.0",
         "7.0",
         "4.0",
         "0.0",
         "1.0",
         "3.0"
        ],
        [
         "8",
         "2015-01-04 08:00:00",
         "131",
         "1.5",
         "-1.0",
         "96.5",
         "8.0",
         "4.0",
         "0.0",
         "1.0",
         "3.0"
        ],
        [
         "9",
         "2015-01-04 09:00:00",
         "301",
         "2.0",
         "-0.5",
         "100.0",
         "9.0",
         "3.0",
         "0.0",
         "1.0",
         "3.0"
        ],
        [
         "10",
         "2015-01-04 10:00:00",
         "528",
         "3.0",
         "-0.5",
         "93.0",
         "12.0",
         "3.0",
         "0.0",
         "1.0",
         "3.0"
        ],
        [
         "11",
         "2015-01-04 11:00:00",
         "727",
         "2.0",
         "-1.5",
         "100.0",
         "12.0",
         "3.0",
         "0.0",
         "1.0",
         "3.0"
        ],
        [
         "12",
         "2015-01-04 12:00:00",
         "862",
         "2.0",
         "-1.5",
         "96.5",
         "13.0",
         "4.0",
         "0.0",
         "1.0",
         "3.0"
        ],
        [
         "13",
         "2015-01-04 13:00:00",
         "916",
         "3.0",
         "-0.5",
         "87.0",
         "15.0",
         "3.0",
         "0.0",
         "1.0",
         "3.0"
        ],
        [
         "14",
         "2015-01-04 14:00:00",
         "1039",
         "2.5",
         "0.0",
         "90.0",
         "8.0",
         "3.0",
         "0.0",
         "1.0",
         "3.0"
        ],
        [
         "15",
         "2015-01-04 15:00:00",
         "869",
         "2.0",
         "-1.5",
         "93.0",
         "11.0",
         "3.0",
         "0.0",
         "1.0",
         "3.0"
        ],
        [
         "16",
         "2015-01-04 16:00:00",
         "737",
         "3.0",
         "0.0",
         "93.0",
         "12.0",
         "3.0",
         "0.0",
         "1.0",
         "3.0"
        ],
        [
         "17",
         "2015-01-04 17:00:00",
         "594",
         "3.0",
         "0.0",
         "93.0",
         "11.0",
         "3.0",
         "0.0",
         "1.0",
         "3.0"
        ],
        [
         "18",
         "2015-01-04 18:00:00",
         "522",
         "3.0",
         "1.5",
         "93.0",
         "6.5",
         "3.0",
         "0.0",
         "1.0",
         "3.0"
        ],
        [
         "19",
         "2015-01-04 19:00:00",
         "379",
         "3.0",
         "1.0",
         "93.0",
         "7.0",
         "3.0",
         "0.0",
         "1.0",
         "3.0"
        ],
        [
         "20",
         "2015-01-04 20:00:00",
         "328",
         "3.0",
         "3.0",
         "93.0",
         "4.0",
         "3.0",
         "0.0",
         "1.0",
         "3.0"
        ],
        [
         "21",
         "2015-01-04 21:00:00",
         "221",
         "3.0",
         "2.5",
         "93.0",
         "5.0",
         "4.0",
         "0.0",
         "1.0",
         "3.0"
        ],
        [
         "22",
         "2015-01-04 22:00:00",
         "178",
         "3.0",
         "2.0",
         "93.0",
         "6.0",
         "4.0",
         "0.0",
         "1.0",
         "3.0"
        ],
        [
         "23",
         "2015-01-04 23:00:00",
         "157",
         "4.0",
         "3.5",
         "87.0",
         "5.0",
         "4.0",
         "0.0",
         "1.0",
         "3.0"
        ],
        [
         "24",
         "2015-01-05 00:00:00",
         "83",
         "4.0",
         "3.0",
         "93.0",
         "6.0",
         "4.0",
         "0.0",
         "0.0",
         "3.0"
        ],
        [
         "25",
         "2015-01-05 01:00:00",
         "67",
         "4.0",
         "3.5",
         "93.0",
         "5.0",
         "4.0",
         "0.0",
         "0.0",
         "3.0"
        ],
        [
         "26",
         "2015-01-05 02:00:00",
         "32",
         "5.0",
         "4.0",
         "87.0",
         "6.0",
         "4.0",
         "0.0",
         "0.0",
         "3.0"
        ],
        [
         "27",
         "2015-01-05 03:00:00",
         "22",
         "6.0",
         "4.5",
         "84.0",
         "7.5",
         "4.0",
         "0.0",
         "0.0",
         "3.0"
        ],
        [
         "28",
         "2015-01-05 04:00:00",
         "38",
         "6.5",
         "5.0",
         "84.0",
         "8.0",
         "4.0",
         "0.0",
         "0.0",
         "3.0"
        ],
        [
         "29",
         "2015-01-05 05:00:00",
         "81",
         "6.0",
         "5.5",
         "87.0",
         "5.0",
         "4.0",
         "0.0",
         "0.0",
         "3.0"
        ],
        [
         "30",
         "2015-01-05 06:00:00",
         "444",
         "7.0",
         "6.5",
         "81.0",
         "5.0",
         "3.0",
         "0.0",
         "0.0",
         "3.0"
        ],
        [
         "31",
         "2015-01-05 07:00:00",
         "1597",
         "7.0",
         "6.0",
         "81.0",
         "6.5",
         "3.0",
         "0.0",
         "0.0",
         "3.0"
        ],
        [
         "32",
         "2015-01-05 08:00:00",
         "3161",
         "8.0",
         "7.5",
         "79.0",
         "5.0",
         "3.0",
         "0.0",
         "0.0",
         "3.0"
        ],
        [
         "33",
         "2015-01-05 09:00:00",
         "1342",
         "8.0",
         "7.0",
         "82.0",
         "6.0",
         "3.0",
         "0.0",
         "0.0",
         "3.0"
        ],
        [
         "34",
         "2015-01-05 10:00:00",
         "568",
         "9.0",
         "8.0",
         "84.5",
         "6.5",
         "3.0",
         "0.0",
         "0.0",
         "3.0"
        ],
        [
         "35",
         "2015-01-05 11:00:00",
         "584",
         "9.0",
         "7.5",
         "90.5",
         "10.0",
         "3.0",
         "0.0",
         "0.0",
         "3.0"
        ],
        [
         "36",
         "2015-01-05 12:00:00",
         "762",
         "10.0",
         "8.0",
         "85.0",
         "11.0",
         "3.0",
         "0.0",
         "0.0",
         "3.0"
        ],
        [
         "37",
         "2015-01-05 13:00:00",
         "873",
         "10.0",
         "8.5",
         "82.0",
         "10.0",
         "3.0",
         "0.0",
         "0.0",
         "3.0"
        ],
        [
         "38",
         "2015-01-05 14:00:00",
         "672",
         "10.0",
         "9.0",
         "82.0",
         "9.0",
         "3.0",
         "0.0",
         "0.0",
         "3.0"
        ],
        [
         "39",
         "2015-01-05 15:00:00",
         "807",
         "10.0",
         "8.5",
         "79.0",
         "10.0",
         "3.0",
         "0.0",
         "0.0",
         "3.0"
        ],
        [
         "40",
         "2015-01-05 16:00:00",
         "1192",
         "10.0",
         "8.5",
         "73.5",
         "13.0",
         "3.0",
         "0.0",
         "0.0",
         "3.0"
        ],
        [
         "41",
         "2015-01-05 17:00:00",
         "2761",
         "9.5",
         "7.5",
         "73.5",
         "12.0",
         "3.0",
         "0.0",
         "0.0",
         "3.0"
        ],
        [
         "42",
         "2015-01-05 18:00:00",
         "2389",
         "9.5",
         "7.5",
         "69.0",
         "14.0",
         "3.0",
         "0.0",
         "0.0",
         "3.0"
        ],
        [
         "43",
         "2015-01-05 19:00:00",
         "1274",
         "9.0",
         "6.5",
         "71.0",
         "14.0",
         "3.0",
         "0.0",
         "0.0",
         "3.0"
        ],
        [
         "44",
         "2015-01-05 20:00:00",
         "696",
         "9.0",
         "7.0",
         "71.0",
         "14.0",
         "3.0",
         "0.0",
         "0.0",
         "3.0"
        ],
        [
         "45",
         "2015-01-05 21:00:00",
         "411",
         "9.0",
         "7.0",
         "71.0",
         "11.0",
         "3.0",
         "0.0",
         "0.0",
         "3.0"
        ],
        [
         "46",
         "2015-01-05 22:00:00",
         "324",
         "9.0",
         "7.5",
         "71.0",
         "10.0",
         "4.0",
         "0.0",
         "0.0",
         "3.0"
        ],
        [
         "47",
         "2015-01-05 23:00:00",
         "192",
         "8.5",
         "7.5",
         "73.5",
         "8.0",
         "4.0",
         "0.0",
         "0.0",
         "3.0"
        ],
        [
         "48",
         "2015-01-06 00:00:00",
         "91",
         "8.0",
         "6.5",
         "76.0",
         "8.0",
         "4.0",
         "0.0",
         "0.0",
         "3.0"
        ],
        [
         "49",
         "2015-01-06 01:00:00",
         "73",
         "8.0",
         "6.5",
         "76.0",
         "8.0",
         "4.0",
         "0.0",
         "0.0",
         "3.0"
        ]
       ],
       "shape": {
        "columns": 10,
        "rows": 17414
       }
      },
      "text/html": [
       "<div>\n",
       "<style scoped>\n",
       "    .dataframe tbody tr th:only-of-type {\n",
       "        vertical-align: middle;\n",
       "    }\n",
       "\n",
       "    .dataframe tbody tr th {\n",
       "        vertical-align: top;\n",
       "    }\n",
       "\n",
       "    .dataframe thead th {\n",
       "        text-align: right;\n",
       "    }\n",
       "</style>\n",
       "<table border=\"1\" class=\"dataframe\">\n",
       "  <thead>\n",
       "    <tr style=\"text-align: right;\">\n",
       "      <th></th>\n",
       "      <th>timestamp</th>\n",
       "      <th>cnt</th>\n",
       "      <th>t1</th>\n",
       "      <th>t2</th>\n",
       "      <th>hum</th>\n",
       "      <th>wind_speed</th>\n",
       "      <th>weather_code</th>\n",
       "      <th>is_holiday</th>\n",
       "      <th>is_weekend</th>\n",
       "      <th>season</th>\n",
       "    </tr>\n",
       "  </thead>\n",
       "  <tbody>\n",
       "    <tr>\n",
       "      <th>0</th>\n",
       "      <td>2015-01-04 00:00:00</td>\n",
       "      <td>182</td>\n",
       "      <td>3.0</td>\n",
       "      <td>2.0</td>\n",
       "      <td>93.0</td>\n",
       "      <td>6.0</td>\n",
       "      <td>3.0</td>\n",
       "      <td>0.0</td>\n",
       "      <td>1.0</td>\n",
       "      <td>3.0</td>\n",
       "    </tr>\n",
       "    <tr>\n",
       "      <th>1</th>\n",
       "      <td>2015-01-04 01:00:00</td>\n",
       "      <td>138</td>\n",
       "      <td>3.0</td>\n",
       "      <td>2.5</td>\n",
       "      <td>93.0</td>\n",
       "      <td>5.0</td>\n",
       "      <td>1.0</td>\n",
       "      <td>0.0</td>\n",
       "      <td>1.0</td>\n",
       "      <td>3.0</td>\n",
       "    </tr>\n",
       "    <tr>\n",
       "      <th>2</th>\n",
       "      <td>2015-01-04 02:00:00</td>\n",
       "      <td>134</td>\n",
       "      <td>2.5</td>\n",
       "      <td>2.5</td>\n",
       "      <td>96.5</td>\n",
       "      <td>0.0</td>\n",
       "      <td>1.0</td>\n",
       "      <td>0.0</td>\n",
       "      <td>1.0</td>\n",
       "      <td>3.0</td>\n",
       "    </tr>\n",
       "    <tr>\n",
       "      <th>3</th>\n",
       "      <td>2015-01-04 03:00:00</td>\n",
       "      <td>72</td>\n",
       "      <td>2.0</td>\n",
       "      <td>2.0</td>\n",
       "      <td>100.0</td>\n",
       "      <td>0.0</td>\n",
       "      <td>1.0</td>\n",
       "      <td>0.0</td>\n",
       "      <td>1.0</td>\n",
       "      <td>3.0</td>\n",
       "    </tr>\n",
       "    <tr>\n",
       "      <th>4</th>\n",
       "      <td>2015-01-04 04:00:00</td>\n",
       "      <td>47</td>\n",
       "      <td>2.0</td>\n",
       "      <td>0.0</td>\n",
       "      <td>93.0</td>\n",
       "      <td>6.5</td>\n",
       "      <td>1.0</td>\n",
       "      <td>0.0</td>\n",
       "      <td>1.0</td>\n",
       "      <td>3.0</td>\n",
       "    </tr>\n",
       "    <tr>\n",
       "      <th>...</th>\n",
       "      <td>...</td>\n",
       "      <td>...</td>\n",
       "      <td>...</td>\n",
       "      <td>...</td>\n",
       "      <td>...</td>\n",
       "      <td>...</td>\n",
       "      <td>...</td>\n",
       "      <td>...</td>\n",
       "      <td>...</td>\n",
       "      <td>...</td>\n",
       "    </tr>\n",
       "    <tr>\n",
       "      <th>17409</th>\n",
       "      <td>2017-01-03 19:00:00</td>\n",
       "      <td>1042</td>\n",
       "      <td>5.0</td>\n",
       "      <td>1.0</td>\n",
       "      <td>81.0</td>\n",
       "      <td>19.0</td>\n",
       "      <td>3.0</td>\n",
       "      <td>0.0</td>\n",
       "      <td>0.0</td>\n",
       "      <td>3.0</td>\n",
       "    </tr>\n",
       "    <tr>\n",
       "      <th>17410</th>\n",
       "      <td>2017-01-03 20:00:00</td>\n",
       "      <td>541</td>\n",
       "      <td>5.0</td>\n",
       "      <td>1.0</td>\n",
       "      <td>81.0</td>\n",
       "      <td>21.0</td>\n",
       "      <td>4.0</td>\n",
       "      <td>0.0</td>\n",
       "      <td>0.0</td>\n",
       "      <td>3.0</td>\n",
       "    </tr>\n",
       "    <tr>\n",
       "      <th>17411</th>\n",
       "      <td>2017-01-03 21:00:00</td>\n",
       "      <td>337</td>\n",
       "      <td>5.5</td>\n",
       "      <td>1.5</td>\n",
       "      <td>78.5</td>\n",
       "      <td>24.0</td>\n",
       "      <td>4.0</td>\n",
       "      <td>0.0</td>\n",
       "      <td>0.0</td>\n",
       "      <td>3.0</td>\n",
       "    </tr>\n",
       "    <tr>\n",
       "      <th>17412</th>\n",
       "      <td>2017-01-03 22:00:00</td>\n",
       "      <td>224</td>\n",
       "      <td>5.5</td>\n",
       "      <td>1.5</td>\n",
       "      <td>76.0</td>\n",
       "      <td>23.0</td>\n",
       "      <td>4.0</td>\n",
       "      <td>0.0</td>\n",
       "      <td>0.0</td>\n",
       "      <td>3.0</td>\n",
       "    </tr>\n",
       "    <tr>\n",
       "      <th>17413</th>\n",
       "      <td>2017-01-03 23:00:00</td>\n",
       "      <td>139</td>\n",
       "      <td>5.0</td>\n",
       "      <td>1.0</td>\n",
       "      <td>76.0</td>\n",
       "      <td>22.0</td>\n",
       "      <td>2.0</td>\n",
       "      <td>0.0</td>\n",
       "      <td>0.0</td>\n",
       "      <td>3.0</td>\n",
       "    </tr>\n",
       "  </tbody>\n",
       "</table>\n",
       "<p>17414 rows × 10 columns</p>\n",
       "</div>"
      ],
      "text/plain": [
       "                 timestamp   cnt   t1   t2    hum  wind_speed  weather_code  \\\n",
       "0      2015-01-04 00:00:00   182  3.0  2.0   93.0         6.0           3.0   \n",
       "1      2015-01-04 01:00:00   138  3.0  2.5   93.0         5.0           1.0   \n",
       "2      2015-01-04 02:00:00   134  2.5  2.5   96.5         0.0           1.0   \n",
       "3      2015-01-04 03:00:00    72  2.0  2.0  100.0         0.0           1.0   \n",
       "4      2015-01-04 04:00:00    47  2.0  0.0   93.0         6.5           1.0   \n",
       "...                    ...   ...  ...  ...    ...         ...           ...   \n",
       "17409  2017-01-03 19:00:00  1042  5.0  1.0   81.0        19.0           3.0   \n",
       "17410  2017-01-03 20:00:00   541  5.0  1.0   81.0        21.0           4.0   \n",
       "17411  2017-01-03 21:00:00   337  5.5  1.5   78.5        24.0           4.0   \n",
       "17412  2017-01-03 22:00:00   224  5.5  1.5   76.0        23.0           4.0   \n",
       "17413  2017-01-03 23:00:00   139  5.0  1.0   76.0        22.0           2.0   \n",
       "\n",
       "       is_holiday  is_weekend  season  \n",
       "0             0.0         1.0     3.0  \n",
       "1             0.0         1.0     3.0  \n",
       "2             0.0         1.0     3.0  \n",
       "3             0.0         1.0     3.0  \n",
       "4             0.0         1.0     3.0  \n",
       "...           ...         ...     ...  \n",
       "17409         0.0         0.0     3.0  \n",
       "17410         0.0         0.0     3.0  \n",
       "17411         0.0         0.0     3.0  \n",
       "17412         0.0         0.0     3.0  \n",
       "17413         0.0         0.0     3.0  \n",
       "\n",
       "[17414 rows x 10 columns]"
      ]
     },
     "execution_count": 10,
     "metadata": {},
     "output_type": "execute_result"
    }
   ],
   "source": [
    "bikes"
   ]
  },
  {
   "cell_type": "markdown",
   "id": "c8cd8b19",
   "metadata": {},
   "source": [
    "#### count the unique values in the weather_code column"
   ]
  },
  {
   "cell_type": "code",
   "execution_count": 12,
   "id": "702cf2e6",
   "metadata": {},
   "outputs": [
    {
     "data": {
      "application/vnd.microsoft.datawrangler.viewer.v0+json": {
       "columns": [
        {
         "name": "weather_code",
         "rawType": "float64",
         "type": "float"
        },
        {
         "name": "count",
         "rawType": "int64",
         "type": "integer"
        }
       ],
       "ref": "cfac46b2-8315-4e31-8bea-d4be38fdc6e6",
       "rows": [
        [
         "1.0",
         "6150"
        ],
        [
         "2.0",
         "4034"
        ],
        [
         "3.0",
         "3551"
        ],
        [
         "7.0",
         "2141"
        ],
        [
         "4.0",
         "1464"
        ],
        [
         "26.0",
         "60"
        ],
        [
         "10.0",
         "14"
        ]
       ],
       "shape": {
        "columns": 1,
        "rows": 7
       }
      },
      "text/plain": [
       "weather_code\n",
       "1.0     6150\n",
       "2.0     4034\n",
       "3.0     3551\n",
       "7.0     2141\n",
       "4.0     1464\n",
       "26.0      60\n",
       "10.0      14\n",
       "Name: count, dtype: int64"
      ]
     },
     "execution_count": 12,
     "metadata": {},
     "output_type": "execute_result"
    }
   ],
   "source": [
    "bikes.weather_code.value_counts()"
   ]
  },
  {
   "cell_type": "markdown",
   "id": "d89eb7a8",
   "metadata": {},
   "source": [
    "#### count the unique values in the season column"
   ]
  },
  {
   "cell_type": "code",
   "execution_count": 13,
   "id": "3a32d652",
   "metadata": {},
   "outputs": [
    {
     "data": {
      "application/vnd.microsoft.datawrangler.viewer.v0+json": {
       "columns": [
        {
         "name": "season",
         "rawType": "float64",
         "type": "float"
        },
        {
         "name": "count",
         "rawType": "int64",
         "type": "integer"
        }
       ],
       "ref": "cade471a-66f1-4dc0-a2a5-5a7404effeaf",
       "rows": [
        [
         "0.0",
         "4394"
        ],
        [
         "1.0",
         "4387"
        ],
        [
         "3.0",
         "4330"
        ],
        [
         "2.0",
         "4303"
        ]
       ],
       "shape": {
        "columns": 1,
        "rows": 4
       }
      },
      "text/plain": [
       "season\n",
       "0.0    4394\n",
       "1.0    4387\n",
       "3.0    4330\n",
       "2.0    4303\n",
       "Name: count, dtype: int64"
      ]
     },
     "execution_count": 13,
     "metadata": {},
     "output_type": "execute_result"
    }
   ],
   "source": [
    "bikes.season.value_counts()"
   ]
  },
  {
   "cell_type": "markdown",
   "id": "887b8a2a",
   "metadata": {},
   "source": [
    "##### specifying the column names that I want to use"
   ]
  },
  {
   "cell_type": "code",
   "execution_count": 14,
   "id": "a2bd374c",
   "metadata": {},
   "outputs": [],
   "source": [
    "new_cols_dict ={\n",
    "    'timestamp':'time',\n",
    "    'cnt':'count', \n",
    "    't1':'temp_real_C',\n",
    "    't2':'temp_feels_like_C',\n",
    "    'hum':'humidity_percent',\n",
    "    'wind_speed':'wind_speed_kph',\n",
    "    'weather_code':'weather',\n",
    "    'is_holiday':'is_holiday',\n",
    "    'is_weekend':'is_weekend',\n",
    "    'season':'season'\n",
    "}\n",
    "\n",
    "# Renaming the columns to the specified column names\n",
    "bikes.rename(new_cols_dict, axis=1, inplace=True)"
   ]
  },
  {
   "cell_type": "markdown",
   "id": "da24b96c",
   "metadata": {},
   "source": [
    "##### changing the humidity values to percentage (i.e. a value between 0 and 1)"
   ]
  },
  {
   "cell_type": "code",
   "execution_count": 15,
   "id": "de826fce",
   "metadata": {},
   "outputs": [],
   "source": [
    "bikes.humidity_percent = bikes.humidity_percent / 100"
   ]
  },
  {
   "cell_type": "markdown",
   "id": "872d1224",
   "metadata": {},
   "source": [
    "#### creating a season and weather dictionary"
   ]
  },
  {
   "cell_type": "code",
   "execution_count": 16,
   "id": "2b12a429",
   "metadata": {},
   "outputs": [],
   "source": [
    "# creating a season dictionary so that we can map the integers 0-3 to the actual written values\n",
    "season_dict = {\n",
    "    '0.0':'spring',\n",
    "    '1.0':'summer',\n",
    "    '2.0':'autumn',\n",
    "    '3.0':'winter'\n",
    "}\n",
    "\n",
    "# creating a weather dictionary so that we can map the integers to the actual written values\n",
    "weather_dict = {\n",
    "    '1.0':'Clear',\n",
    "    '2.0':'Scattered clouds',\n",
    "    '3.0':'Broken clouds',\n",
    "    '4.0':'Cloudy',\n",
    "    '7.0':'Rain',\n",
    "    '10.0':'Rain with thunderstorm',\n",
    "    '26.0':'Snowfall'\n",
    "}\n",
    "\n",
    "# changing the seasons column data type to string\n",
    "bikes.season = bikes.season.astype('str')\n",
    "# mapping the values 0-3 to the actual written seasons\n",
    "bikes.season = bikes.season.map(season_dict)\n",
    "\n",
    "# changing the weather column data type to string\n",
    "bikes.weather = bikes.weather.astype('str')\n",
    "# mapping the values to the actual written weathers\n",
    "bikes.weather = bikes.weather.map(weather_dict)"
   ]
  },
  {
   "cell_type": "code",
   "execution_count": 17,
   "id": "6d25e3c6",
   "metadata": {},
   "outputs": [
    {
     "data": {
      "application/vnd.microsoft.datawrangler.viewer.v0+json": {
       "columns": [
        {
         "name": "index",
         "rawType": "int64",
         "type": "integer"
        },
        {
         "name": "time",
         "rawType": "object",
         "type": "string"
        },
        {
         "name": "count",
         "rawType": "int64",
         "type": "integer"
        },
        {
         "name": "temp_real_C",
         "rawType": "float64",
         "type": "float"
        },
        {
         "name": "temp_feels_like_C",
         "rawType": "float64",
         "type": "float"
        },
        {
         "name": "humidity_percent",
         "rawType": "float64",
         "type": "float"
        },
        {
         "name": "wind_speed_kph",
         "rawType": "float64",
         "type": "float"
        },
        {
         "name": "weather",
         "rawType": "object",
         "type": "string"
        },
        {
         "name": "is_holiday",
         "rawType": "float64",
         "type": "float"
        },
        {
         "name": "is_weekend",
         "rawType": "float64",
         "type": "float"
        },
        {
         "name": "season",
         "rawType": "object",
         "type": "string"
        }
       ],
       "ref": "86a4490a-a7b6-4154-9b25-ce9aab17a62f",
       "rows": [
        [
         "0",
         "2015-01-04 00:00:00",
         "182",
         "3.0",
         "2.0",
         "0.93",
         "6.0",
         "Broken clouds",
         "0.0",
         "1.0",
         "winter"
        ],
        [
         "1",
         "2015-01-04 01:00:00",
         "138",
         "3.0",
         "2.5",
         "0.93",
         "5.0",
         "Clear",
         "0.0",
         "1.0",
         "winter"
        ],
        [
         "2",
         "2015-01-04 02:00:00",
         "134",
         "2.5",
         "2.5",
         "0.965",
         "0.0",
         "Clear",
         "0.0",
         "1.0",
         "winter"
        ],
        [
         "3",
         "2015-01-04 03:00:00",
         "72",
         "2.0",
         "2.0",
         "1.0",
         "0.0",
         "Clear",
         "0.0",
         "1.0",
         "winter"
        ],
        [
         "4",
         "2015-01-04 04:00:00",
         "47",
         "2.0",
         "0.0",
         "0.93",
         "6.5",
         "Clear",
         "0.0",
         "1.0",
         "winter"
        ]
       ],
       "shape": {
        "columns": 10,
        "rows": 5
       }
      },
      "text/html": [
       "<div>\n",
       "<style scoped>\n",
       "    .dataframe tbody tr th:only-of-type {\n",
       "        vertical-align: middle;\n",
       "    }\n",
       "\n",
       "    .dataframe tbody tr th {\n",
       "        vertical-align: top;\n",
       "    }\n",
       "\n",
       "    .dataframe thead th {\n",
       "        text-align: right;\n",
       "    }\n",
       "</style>\n",
       "<table border=\"1\" class=\"dataframe\">\n",
       "  <thead>\n",
       "    <tr style=\"text-align: right;\">\n",
       "      <th></th>\n",
       "      <th>time</th>\n",
       "      <th>count</th>\n",
       "      <th>temp_real_C</th>\n",
       "      <th>temp_feels_like_C</th>\n",
       "      <th>humidity_percent</th>\n",
       "      <th>wind_speed_kph</th>\n",
       "      <th>weather</th>\n",
       "      <th>is_holiday</th>\n",
       "      <th>is_weekend</th>\n",
       "      <th>season</th>\n",
       "    </tr>\n",
       "  </thead>\n",
       "  <tbody>\n",
       "    <tr>\n",
       "      <th>0</th>\n",
       "      <td>2015-01-04 00:00:00</td>\n",
       "      <td>182</td>\n",
       "      <td>3.0</td>\n",
       "      <td>2.0</td>\n",
       "      <td>0.930</td>\n",
       "      <td>6.0</td>\n",
       "      <td>Broken clouds</td>\n",
       "      <td>0.0</td>\n",
       "      <td>1.0</td>\n",
       "      <td>winter</td>\n",
       "    </tr>\n",
       "    <tr>\n",
       "      <th>1</th>\n",
       "      <td>2015-01-04 01:00:00</td>\n",
       "      <td>138</td>\n",
       "      <td>3.0</td>\n",
       "      <td>2.5</td>\n",
       "      <td>0.930</td>\n",
       "      <td>5.0</td>\n",
       "      <td>Clear</td>\n",
       "      <td>0.0</td>\n",
       "      <td>1.0</td>\n",
       "      <td>winter</td>\n",
       "    </tr>\n",
       "    <tr>\n",
       "      <th>2</th>\n",
       "      <td>2015-01-04 02:00:00</td>\n",
       "      <td>134</td>\n",
       "      <td>2.5</td>\n",
       "      <td>2.5</td>\n",
       "      <td>0.965</td>\n",
       "      <td>0.0</td>\n",
       "      <td>Clear</td>\n",
       "      <td>0.0</td>\n",
       "      <td>1.0</td>\n",
       "      <td>winter</td>\n",
       "    </tr>\n",
       "    <tr>\n",
       "      <th>3</th>\n",
       "      <td>2015-01-04 03:00:00</td>\n",
       "      <td>72</td>\n",
       "      <td>2.0</td>\n",
       "      <td>2.0</td>\n",
       "      <td>1.000</td>\n",
       "      <td>0.0</td>\n",
       "      <td>Clear</td>\n",
       "      <td>0.0</td>\n",
       "      <td>1.0</td>\n",
       "      <td>winter</td>\n",
       "    </tr>\n",
       "    <tr>\n",
       "      <th>4</th>\n",
       "      <td>2015-01-04 04:00:00</td>\n",
       "      <td>47</td>\n",
       "      <td>2.0</td>\n",
       "      <td>0.0</td>\n",
       "      <td>0.930</td>\n",
       "      <td>6.5</td>\n",
       "      <td>Clear</td>\n",
       "      <td>0.0</td>\n",
       "      <td>1.0</td>\n",
       "      <td>winter</td>\n",
       "    </tr>\n",
       "  </tbody>\n",
       "</table>\n",
       "</div>"
      ],
      "text/plain": [
       "                  time  count  temp_real_C  temp_feels_like_C  \\\n",
       "0  2015-01-04 00:00:00    182          3.0                2.0   \n",
       "1  2015-01-04 01:00:00    138          3.0                2.5   \n",
       "2  2015-01-04 02:00:00    134          2.5                2.5   \n",
       "3  2015-01-04 03:00:00     72          2.0                2.0   \n",
       "4  2015-01-04 04:00:00     47          2.0                0.0   \n",
       "\n",
       "   humidity_percent  wind_speed_kph        weather  is_holiday  is_weekend  \\\n",
       "0             0.930             6.0  Broken clouds         0.0         1.0   \n",
       "1             0.930             5.0          Clear         0.0         1.0   \n",
       "2             0.965             0.0          Clear         0.0         1.0   \n",
       "3             1.000             0.0          Clear         0.0         1.0   \n",
       "4             0.930             6.5          Clear         0.0         1.0   \n",
       "\n",
       "   season  \n",
       "0  winter  \n",
       "1  winter  \n",
       "2  winter  \n",
       "3  winter  \n",
       "4  winter  "
      ]
     },
     "execution_count": 17,
     "metadata": {},
     "output_type": "execute_result"
    }
   ],
   "source": [
    "bikes.head()"
   ]
  },
  {
   "cell_type": "markdown",
   "id": "ded043a3",
   "metadata": {},
   "source": [
    "#### # writing the final dataframe to an excel file that we will use in our Tableau visualisations. The file will be the 'london_bikes_final.xlsx' file and the sheet name is 'Data"
   ]
  },
  {
   "cell_type": "code",
   "execution_count": 18,
   "id": "b8ef94dc",
   "metadata": {},
   "outputs": [],
   "source": [
    "bikes.to_excel('london_bikes_final.xlsx', sheet_name='Data')"
   ]
  },
  {
   "cell_type": "code",
   "execution_count": null,
   "id": "b3ee94cf",
   "metadata": {},
   "outputs": [],
   "source": []
  }
 ],
 "metadata": {
  "kernelspec": {
   "display_name": "data_science",
   "language": "python",
   "name": "python3"
  },
  "language_info": {
   "codemirror_mode": {
    "name": "ipython",
    "version": 3
   },
   "file_extension": ".py",
   "mimetype": "text/x-python",
   "name": "python",
   "nbconvert_exporter": "python",
   "pygments_lexer": "ipython3",
   "version": "3.11.10"
  }
 },
 "nbformat": 4,
 "nbformat_minor": 5
}
