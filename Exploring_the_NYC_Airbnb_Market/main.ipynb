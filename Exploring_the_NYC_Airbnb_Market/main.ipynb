{
 "cells": [
  {
   "cell_type": "markdown",
   "id": "50013374",
   "metadata": {},
   "source": [
    "<img src=\"nyc.jpg\" width=\"98%\" />\n",
    "Welcome to New York City, one of the most-visited cities in the world. There are many Airbnb listings in New York City to meet the high demand for temporary lodging for travelers, which can be anywhere between a few nights to many months. In this project, we will take a closer look at the New York Airbnb market by combining data from multiple file types like `.csv`, `.tsv`, and `.xlsx`.\n",
    "\n",
    "Recall that CSV, TSV, and Excel files are three common formats for storing data. Three files containing data on 2019 Airbnb listings are available to you:\n",
    "\n",
    "- **data/airbnb_price.csv** This is a CSV file containing data on Airbnb listing prices and locations.  \n",
    "  - `listing_id` : unique identifier of listing  \n",
    "  - `price` : nightly listing price in USD  \n",
    "  - `nbhood_full` : name of borough and neighborhood where listing is located  \n",
    "\n",
    "- **data/airbnb_room_type.xlsx** This is an Excel file containing data on Airbnb listing descriptions and room types.  \n",
    "  - `listing_id` : unique identifier of listing  \n",
    "  - `description` : listing description  \n",
    "  - `room_type` : Airbnb has three types of rooms: shared rooms, private rooms, and entire homes/apartments  \n",
    "\n",
    "- **data/airbnb_last_review.tsv** This is a TSV file containing data on Airbnb host names and review dates.  \n",
    "  - `listing_id` : unique identifier of listing  \n",
    "  - `host_name` : name of listing host  \n",
    "  - `last_review` : date when the listing was last reviewed  \n"
   ]
  },
  {
   "cell_type": "markdown",
   "id": "58b0ce71",
   "metadata": {},
   "source": [
    "##### Import CSV for prices"
   ]
  },
  {
   "cell_type": "code",
   "execution_count": 12,
   "id": "eade5f35",
   "metadata": {},
   "outputs": [
    {
     "name": "stdout",
     "output_type": "stream",
     "text": [
      "(25209, 3)\n"
     ]
    },
    {
     "data": {
      "text/html": [
       "<div>\n",
       "<style scoped>\n",
       "    .dataframe tbody tr th:only-of-type {\n",
       "        vertical-align: middle;\n",
       "    }\n",
       "\n",
       "    .dataframe tbody tr th {\n",
       "        vertical-align: top;\n",
       "    }\n",
       "\n",
       "    .dataframe thead th {\n",
       "        text-align: right;\n",
       "    }\n",
       "</style>\n",
       "<table border=\"1\" class=\"dataframe\">\n",
       "  <thead>\n",
       "    <tr style=\"text-align: right;\">\n",
       "      <th></th>\n",
       "      <th>listing_id</th>\n",
       "      <th>price</th>\n",
       "      <th>nbhood_full</th>\n",
       "    </tr>\n",
       "  </thead>\n",
       "  <tbody>\n",
       "    <tr>\n",
       "      <th>0</th>\n",
       "      <td>2595</td>\n",
       "      <td>225 dollars</td>\n",
       "      <td>Manhattan, Midtown</td>\n",
       "    </tr>\n",
       "    <tr>\n",
       "      <th>1</th>\n",
       "      <td>3831</td>\n",
       "      <td>89 dollars</td>\n",
       "      <td>Brooklyn, Clinton Hill</td>\n",
       "    </tr>\n",
       "    <tr>\n",
       "      <th>2</th>\n",
       "      <td>5099</td>\n",
       "      <td>200 dollars</td>\n",
       "      <td>Manhattan, Murray Hill</td>\n",
       "    </tr>\n",
       "    <tr>\n",
       "      <th>3</th>\n",
       "      <td>5178</td>\n",
       "      <td>79 dollars</td>\n",
       "      <td>Manhattan, Hell's Kitchen</td>\n",
       "    </tr>\n",
       "    <tr>\n",
       "      <th>4</th>\n",
       "      <td>5238</td>\n",
       "      <td>150 dollars</td>\n",
       "      <td>Manhattan, Chinatown</td>\n",
       "    </tr>\n",
       "  </tbody>\n",
       "</table>\n",
       "</div>"
      ],
      "text/plain": [
       "   listing_id        price                nbhood_full\n",
       "0        2595  225 dollars         Manhattan, Midtown\n",
       "1        3831   89 dollars     Brooklyn, Clinton Hill\n",
       "2        5099  200 dollars     Manhattan, Murray Hill\n",
       "3        5178   79 dollars  Manhattan, Hell's Kitchen\n",
       "4        5238  150 dollars       Manhattan, Chinatown"
      ]
     },
     "execution_count": 12,
     "metadata": {},
     "output_type": "execute_result"
    }
   ],
   "source": [
    "import pandas as pd\n",
    "airbnb_price = pd.read_csv('data/airbnb_price.csv')\n",
    "print(airbnb_price.shape)\n",
    "airbnb_price.head()"
   ]
  },
  {
   "cell_type": "markdown",
   "id": "80516de9",
   "metadata": {},
   "source": [
    "#### Import Excel file for room types"
   ]
  },
  {
   "cell_type": "code",
   "execution_count": 13,
   "id": "e2c41529",
   "metadata": {},
   "outputs": [
    {
     "name": "stdout",
     "output_type": "stream",
     "text": [
      "(25209, 3)\n"
     ]
    },
    {
     "data": {
      "text/html": [
       "<div>\n",
       "<style scoped>\n",
       "    .dataframe tbody tr th:only-of-type {\n",
       "        vertical-align: middle;\n",
       "    }\n",
       "\n",
       "    .dataframe tbody tr th {\n",
       "        vertical-align: top;\n",
       "    }\n",
       "\n",
       "    .dataframe thead th {\n",
       "        text-align: right;\n",
       "    }\n",
       "</style>\n",
       "<table border=\"1\" class=\"dataframe\">\n",
       "  <thead>\n",
       "    <tr style=\"text-align: right;\">\n",
       "      <th></th>\n",
       "      <th>listing_id</th>\n",
       "      <th>description</th>\n",
       "      <th>room_type</th>\n",
       "    </tr>\n",
       "  </thead>\n",
       "  <tbody>\n",
       "    <tr>\n",
       "      <th>0</th>\n",
       "      <td>2595</td>\n",
       "      <td>Skylit Midtown Castle</td>\n",
       "      <td>Entire home/apt</td>\n",
       "    </tr>\n",
       "    <tr>\n",
       "      <th>1</th>\n",
       "      <td>3831</td>\n",
       "      <td>Cozy Entire Floor of Brownstone</td>\n",
       "      <td>Entire home/apt</td>\n",
       "    </tr>\n",
       "    <tr>\n",
       "      <th>2</th>\n",
       "      <td>5099</td>\n",
       "      <td>Large Cozy 1 BR Apartment In Midtown East</td>\n",
       "      <td>Entire home/apt</td>\n",
       "    </tr>\n",
       "    <tr>\n",
       "      <th>3</th>\n",
       "      <td>5178</td>\n",
       "      <td>Large Furnished Room Near B'way</td>\n",
       "      <td>private room</td>\n",
       "    </tr>\n",
       "    <tr>\n",
       "      <th>4</th>\n",
       "      <td>5238</td>\n",
       "      <td>Cute &amp; Cozy Lower East Side 1 bdrm</td>\n",
       "      <td>Entire home/apt</td>\n",
       "    </tr>\n",
       "  </tbody>\n",
       "</table>\n",
       "</div>"
      ],
      "text/plain": [
       "   listing_id                                description        room_type\n",
       "0        2595                      Skylit Midtown Castle  Entire home/apt\n",
       "1        3831            Cozy Entire Floor of Brownstone  Entire home/apt\n",
       "2        5099  Large Cozy 1 BR Apartment In Midtown East  Entire home/apt\n",
       "3        5178            Large Furnished Room Near B'way     private room\n",
       "4        5238         Cute & Cozy Lower East Side 1 bdrm  Entire home/apt"
      ]
     },
     "execution_count": 13,
     "metadata": {},
     "output_type": "execute_result"
    }
   ],
   "source": [
    "\n",
    "airbnb_room_types = pd.read_excel('data/airbnb_room_type.xlsx')\n",
    "print(airbnb_room_types.shape)\n",
    "airbnb_room_types.head()"
   ]
  },
  {
   "cell_type": "markdown",
   "id": "dfd03cd8",
   "metadata": {},
   "source": [
    "#### Import TSV for review dates"
   ]
  },
  {
   "cell_type": "code",
   "execution_count": 21,
   "id": "ca80eeb7",
   "metadata": {},
   "outputs": [
    {
     "name": "stdout",
     "output_type": "stream",
     "text": [
      "(25209, 3)\n"
     ]
    },
    {
     "data": {
      "text/html": [
       "<div>\n",
       "<style scoped>\n",
       "    .dataframe tbody tr th:only-of-type {\n",
       "        vertical-align: middle;\n",
       "    }\n",
       "\n",
       "    .dataframe tbody tr th {\n",
       "        vertical-align: top;\n",
       "    }\n",
       "\n",
       "    .dataframe thead th {\n",
       "        text-align: right;\n",
       "    }\n",
       "</style>\n",
       "<table border=\"1\" class=\"dataframe\">\n",
       "  <thead>\n",
       "    <tr style=\"text-align: right;\">\n",
       "      <th></th>\n",
       "      <th>listing_id</th>\n",
       "      <th>host_name</th>\n",
       "      <th>last_review</th>\n",
       "    </tr>\n",
       "  </thead>\n",
       "  <tbody>\n",
       "    <tr>\n",
       "      <th>0</th>\n",
       "      <td>2595</td>\n",
       "      <td>Jennifer</td>\n",
       "      <td>May 21 2019</td>\n",
       "    </tr>\n",
       "    <tr>\n",
       "      <th>1</th>\n",
       "      <td>3831</td>\n",
       "      <td>LisaRoxanne</td>\n",
       "      <td>July 05 2019</td>\n",
       "    </tr>\n",
       "    <tr>\n",
       "      <th>2</th>\n",
       "      <td>5099</td>\n",
       "      <td>Chris</td>\n",
       "      <td>June 22 2019</td>\n",
       "    </tr>\n",
       "    <tr>\n",
       "      <th>3</th>\n",
       "      <td>5178</td>\n",
       "      <td>Shunichi</td>\n",
       "      <td>June 24 2019</td>\n",
       "    </tr>\n",
       "    <tr>\n",
       "      <th>4</th>\n",
       "      <td>5238</td>\n",
       "      <td>Ben</td>\n",
       "      <td>June 09 2019</td>\n",
       "    </tr>\n",
       "  </tbody>\n",
       "</table>\n",
       "</div>"
      ],
      "text/plain": [
       "   listing_id    host_name   last_review\n",
       "0        2595     Jennifer   May 21 2019\n",
       "1        3831  LisaRoxanne  July 05 2019\n",
       "2        5099        Chris  June 22 2019\n",
       "3        5178     Shunichi  June 24 2019\n",
       "4        5238          Ben  June 09 2019"
      ]
     },
     "execution_count": 21,
     "metadata": {},
     "output_type": "execute_result"
    }
   ],
   "source": [
    "airbnb_last_review = pd.read_csv('data/airbnb_last_review.tsv', sep='\\t')\n",
    "print(airbnb_last_review.shape)\n",
    "airbnb_last_review.head()"
   ]
  },
  {
   "cell_type": "markdown",
   "id": "87e23da6",
   "metadata": {},
   "source": [
    "#### Join the three data frames together into one"
   ]
  },
  {
   "cell_type": "code",
   "execution_count": 34,
   "id": "074328c9",
   "metadata": {},
   "outputs": [
    {
     "data": {
      "text/html": [
       "<div>\n",
       "<style scoped>\n",
       "    .dataframe tbody tr th:only-of-type {\n",
       "        vertical-align: middle;\n",
       "    }\n",
       "\n",
       "    .dataframe tbody tr th {\n",
       "        vertical-align: top;\n",
       "    }\n",
       "\n",
       "    .dataframe thead th {\n",
       "        text-align: right;\n",
       "    }\n",
       "</style>\n",
       "<table border=\"1\" class=\"dataframe\">\n",
       "  <thead>\n",
       "    <tr style=\"text-align: right;\">\n",
       "      <th></th>\n",
       "      <th>listing_id</th>\n",
       "      <th>price</th>\n",
       "      <th>nbhood_full</th>\n",
       "      <th>description</th>\n",
       "      <th>room_type</th>\n",
       "      <th>host_name</th>\n",
       "      <th>last_review</th>\n",
       "    </tr>\n",
       "  </thead>\n",
       "  <tbody>\n",
       "    <tr>\n",
       "      <th>0</th>\n",
       "      <td>2595</td>\n",
       "      <td>225 dollars</td>\n",
       "      <td>Manhattan, Midtown</td>\n",
       "      <td>Skylit Midtown Castle</td>\n",
       "      <td>Entire home/apt</td>\n",
       "      <td>Jennifer</td>\n",
       "      <td>May 21 2019</td>\n",
       "    </tr>\n",
       "    <tr>\n",
       "      <th>1</th>\n",
       "      <td>3831</td>\n",
       "      <td>89 dollars</td>\n",
       "      <td>Brooklyn, Clinton Hill</td>\n",
       "      <td>Cozy Entire Floor of Brownstone</td>\n",
       "      <td>Entire home/apt</td>\n",
       "      <td>LisaRoxanne</td>\n",
       "      <td>July 05 2019</td>\n",
       "    </tr>\n",
       "    <tr>\n",
       "      <th>2</th>\n",
       "      <td>5099</td>\n",
       "      <td>200 dollars</td>\n",
       "      <td>Manhattan, Murray Hill</td>\n",
       "      <td>Large Cozy 1 BR Apartment In Midtown East</td>\n",
       "      <td>Entire home/apt</td>\n",
       "      <td>Chris</td>\n",
       "      <td>June 22 2019</td>\n",
       "    </tr>\n",
       "    <tr>\n",
       "      <th>3</th>\n",
       "      <td>5178</td>\n",
       "      <td>79 dollars</td>\n",
       "      <td>Manhattan, Hell's Kitchen</td>\n",
       "      <td>Large Furnished Room Near B'way</td>\n",
       "      <td>private room</td>\n",
       "      <td>Shunichi</td>\n",
       "      <td>June 24 2019</td>\n",
       "    </tr>\n",
       "    <tr>\n",
       "      <th>4</th>\n",
       "      <td>5238</td>\n",
       "      <td>150 dollars</td>\n",
       "      <td>Manhattan, Chinatown</td>\n",
       "      <td>Cute &amp; Cozy Lower East Side 1 bdrm</td>\n",
       "      <td>Entire home/apt</td>\n",
       "      <td>Ben</td>\n",
       "      <td>June 09 2019</td>\n",
       "    </tr>\n",
       "  </tbody>\n",
       "</table>\n",
       "</div>"
      ],
      "text/plain": [
       "   listing_id        price                nbhood_full  \\\n",
       "0        2595  225 dollars         Manhattan, Midtown   \n",
       "1        3831   89 dollars     Brooklyn, Clinton Hill   \n",
       "2        5099  200 dollars     Manhattan, Murray Hill   \n",
       "3        5178   79 dollars  Manhattan, Hell's Kitchen   \n",
       "4        5238  150 dollars       Manhattan, Chinatown   \n",
       "\n",
       "                                 description        room_type    host_name  \\\n",
       "0                      Skylit Midtown Castle  Entire home/apt     Jennifer   \n",
       "1            Cozy Entire Floor of Brownstone  Entire home/apt  LisaRoxanne   \n",
       "2  Large Cozy 1 BR Apartment In Midtown East  Entire home/apt        Chris   \n",
       "3            Large Furnished Room Near B'way     private room     Shunichi   \n",
       "4         Cute & Cozy Lower East Side 1 bdrm  Entire home/apt          Ben   \n",
       "\n",
       "    last_review  \n",
       "0   May 21 2019  \n",
       "1  July 05 2019  \n",
       "2  June 22 2019  \n",
       "3  June 24 2019  \n",
       "4  June 09 2019  "
      ]
     },
     "execution_count": 34,
     "metadata": {},
     "output_type": "execute_result"
    }
   ],
   "source": [
    "listings = pd.merge(airbnb_price, airbnb_room_types, on='listing_id')\n",
    "listings = pd.merge(listings, airbnb_last_review, on='listing_id')\n",
    "listings.head()"
   ]
  },
  {
   "cell_type": "markdown",
   "id": "a8efe910",
   "metadata": {},
   "source": [
    "#### What are the dates of the earliest and most recent reviews? To use a function like max()/min() on last_review date column, it needs to be converted to datetime type"
   ]
  },
  {
   "cell_type": "code",
   "execution_count": 31,
   "id": "f64fbbe0",
   "metadata": {},
   "outputs": [
    {
     "name": "stdout",
     "output_type": "stream",
     "text": [
      "0       2019-05-21\n",
      "1       2019-07-05\n",
      "2       2019-06-22\n",
      "3       2019-06-24\n",
      "4       2019-06-09\n",
      "           ...    \n",
      "25204   2019-07-07\n",
      "25205   2019-07-07\n",
      "25206   2019-07-07\n",
      "25207   2019-07-07\n",
      "25208   2019-07-08\n",
      "Name: last_review_date, Length: 25209, dtype: datetime64[ns]\n"
     ]
    },
    {
     "data": {
      "text/plain": [
       "Timestamp('2019-01-01 00:00:00')"
      ]
     },
     "execution_count": 31,
     "metadata": {},
     "output_type": "execute_result"
    }
   ],
   "source": [
    "listings['last_review_date'] = pd.to_datetime(listings['last_review'], format='%B %d %Y')\n",
    "print(listings['last_review_date'])\n",
    "first_reviewed = listings['last_review_date'].min()\n",
    "last_reviewed = listings['last_review_date'].max()\n",
    "first_reviewed\n"
   ]
  },
  {
   "cell_type": "markdown",
   "id": "388841bc",
   "metadata": {},
   "source": [
    "#### How many of the listings are private rooms? Since there are differences in capitalization, make capitalization consistent"
   ]
  },
  {
   "cell_type": "code",
   "execution_count": 33,
   "id": "18e56e03",
   "metadata": {},
   "outputs": [],
   "source": [
    "listings['room_type'] = listings['room_type'].str.lower()\n",
    "private_room_count = listings[listings['room_type'] == 'private_room'].shape[0]"
   ]
  },
  {
   "cell_type": "markdown",
   "id": "6be922df",
   "metadata": {},
   "source": [
    "##### What is the average listing price? To convert price to numeric, remove \" dollars\" from each value"
   ]
  },
  {
   "cell_type": "code",
   "execution_count": 39,
   "id": "5dcccda0",
   "metadata": {},
   "outputs": [
    {
     "data": {
      "text/plain": [
       "np.float64(141.7779364512674)"
      ]
     },
     "execution_count": 39,
     "metadata": {},
     "output_type": "execute_result"
    }
   ],
   "source": [
    "listings['price_clean'] = listings['price'].str.replace(' dollars', '').astype(float)\n",
    "avg_price = listings['price_clean'].mean()\n",
    "avg_price"
   ]
  },
  {
   "cell_type": "code",
   "execution_count": 40,
   "id": "dc0f87ee",
   "metadata": {},
   "outputs": [
    {
     "name": "stdout",
     "output_type": "stream",
     "text": [
      "  first_reviewed last_reviewed  nb_private_rooms  avg_price\n",
      "0     2019-01-01    2019-07-09                 0     141.78\n"
     ]
    }
   ],
   "source": [
    "review_dates = pd.DataFrame({\n",
    "    'first_reviewed': [first_reviewed],\n",
    "    'last_reviewed': [last_reviewed],\n",
    "    'nb_private_rooms': [private_room_count],\n",
    "    'avg_price': [round(avg_price, 2)]\n",
    "})\n",
    "\n",
    "print(review_dates)"
   ]
  },
  {
   "cell_type": "code",
   "execution_count": null,
   "id": "149425bf",
   "metadata": {},
   "outputs": [],
   "source": []
  }
 ],
 "metadata": {
  "kernelspec": {
   "display_name": "Python (data_science)",
   "language": "python",
   "name": "data_science"
  },
  "language_info": {
   "codemirror_mode": {
    "name": "ipython",
    "version": 3
   },
   "file_extension": ".py",
   "mimetype": "text/x-python",
   "name": "python",
   "nbconvert_exporter": "python",
   "pygments_lexer": "ipython3",
   "version": "3.11.0"
  }
 },
 "nbformat": 4,
 "nbformat_minor": 5
}
